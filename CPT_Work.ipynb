{
 "cells": [
  {
   "cell_type": "code",
   "execution_count": null,
   "metadata": {},
   "outputs": [],
   "source": [
    "Здравствуйте. Извините, что пишу на английском языке на русском, дело в том, что сейчас я не в России и у меня нет русской клавиатуры здесь, надеюсь, вы все поймете."
   ]
  },
  {
   "cell_type": "code",
   "execution_count": 2,
   "metadata": {},
   "outputs": [],
   "source": [
    "import numpy as np\n",
    "import matplotlib.pyplot as plt\n",
    "import scipy.stats as sts\n",
    "%matplotlib inline\n",
    "import math #Importirovali vse moduli"
   ]
  },
  {
   "cell_type": "code",
   "execution_count": 3,
   "metadata": {},
   "outputs": [
    {
     "name": "stdout",
     "output_type": "stream",
     "text": [
      "1.5\n",
      "6.75\n"
     ]
    }
   ],
   "source": [
    "#Poschitaem srednee i dispersiy\n",
    "xm=1.#minimalnoe znachenie\n",
    "k=3.# k -> - koefficient krivizny\n",
    "E=(xm*k)/(k-1) #math ozhidanie\n",
    "D=(E**2)*(k/(k-2 )) #Dispersiya\n",
    "print(E)\n",
    "print(D)"
   ]
  },
  {
   "cell_type": "markdown",
   "metadata": {},
   "source": [
    "V itoge poluchaem znachenie dispersii i matozhidaniya."
   ]
  },
  {
   "cell_type": "code",
   "execution_count": 5,
   "metadata": {},
   "outputs": [
    {
     "data": {
      "text/plain": [
       "<matplotlib.legend.Legend at 0x112abee90>"
      ]
     },
     "execution_count": 5,
     "metadata": {},
     "output_type": "execute_result"
    },
    {
     "data": {
      "image/png": "[encoded data removed]",
      "text/plain": [
       "<Figure size 432x288 with 1 Axes>"
      ]
     },
     "metadata": {
      "needs_background": "light"
     },
     "output_type": "display_data"
    }
   ],
   "source": [
    "pareto = sts.pareto(b=3)#zadaem funkciyu\n",
    "sample = pareto.rvs(1000)#generiruem viborku 1000 znacheniy\n",
    "x = np.linspace(1,10,1000)#opredelyaem massiv tochek\n",
    "pdf = pareto.pdf(x)#nahodim znacheniya plotnosti\n",
    "#stroim gistogrammu viborki i poverh risuem plotnost'\n",
    "plt.plot(x, pdf, label='pareto distribution')\n",
    "plt.hist(sample, bins =200, range=(1,10), density=True)\n",
    "plt.ylabel('$f(x)$/samples')\n",
    "plt.xlabel('$x$')\n",
    "plt.legend(loc='upper right')"
   ]
  },
  {
   "cell_type": "markdown",
   "metadata": {},
   "source": [
    "### Ocenim znachenie vyborki dlya n=5"
   ]
  },
  {
   "cell_type": "code",
   "execution_count": 6,
   "metadata": {},
   "outputs": [
    {
     "data": {
      "text/plain": [
       "<matplotlib.legend.Legend at 0x11511afd0>"
      ]
     },
     "execution_count": 6,
     "metadata": {},
     "output_type": "execute_result"
    },
    {
     "data": {
      "image/png": "[encoded data removed]",
      "text/plain": [
       "<Figure size 432x288 with 1 Axes>"
      ]
     },
     "metadata": {
      "needs_background": "light"
     },
     "output_type": "display_data"
    }
   ],
   "source": [
    "n=5\n",
    "sample5=np.array([])#oboznachaem massiv srednih\n",
    "i=1\n",
    "while i <= 1000:#osnovnoy cycle\n",
    "    sample5i = pareto.rvs(n)#generatsiya viborki\n",
    "    mean5i=sum(sample5i)/n#nahodim viborochnoe srednee\n",
    "    sample5=np.append(sample5,mean5i)#dobavlyaem ego v massiv\n",
    "    i+=1\n",
    "#naidem parametri normal distribution for 1000 v.s. pri n=5\n",
    "E=1.5#nashe srednee\n",
    "D=6.75#nashe Pareto\n",
    "D5=D/n#Dispersiya  dlya vyborochnih srednih\n",
    "sigma5=math.sqrt(D5)#Sigma\n",
    "norm5 = sts.norm(E, sigma5)#opedelyaem raspredelenie\n",
    "pdf5 = norm5.pdf(x[:500])#opredelyaem plotnost\n",
    "#Teper postroim diagrammu i plotnost\n",
    "plt.plot(x[:500], pdf5, label='Pareto for n=5')\n",
    "plt.hist(sample5, bins =30, range=(0,5), density=True)\n",
    "plt.ylabel('SAMPLES')\n",
    "plt.xlabel('$x$')\n",
    "plt.legend(loc='best')"
   ]
  },
  {
   "cell_type": "markdown",
   "metadata": {},
   "source": [
    "### Ocenim znachenie vyborki dlya n=30"
   ]
  },
  {
   "cell_type": "code",
   "execution_count": 3,
   "metadata": {},
   "outputs": [
    {
     "ename": "NameError",
     "evalue": "name 'pareto' is not defined",
     "output_type": "error",
     "traceback": [
      "\u001b[0;31m---------------------------------------------------------------------------\u001b[0m",
      "\u001b[0;31mNameError\u001b[0m                                 Traceback (most recent call last)",
      "\u001b[0;32m<ipython-input-3-e774e831bb55>\u001b[0m in \u001b[0;36m<module>\u001b[0;34m\u001b[0m\n\u001b[1;32m      3\u001b[0m \u001b[0mi\u001b[0m\u001b[0;34m=\u001b[0m\u001b[0;36m1\u001b[0m\u001b[0;34m\u001b[0m\u001b[0;34m\u001b[0m\u001b[0m\n\u001b[1;32m      4\u001b[0m \u001b[0;32mwhile\u001b[0m \u001b[0mi\u001b[0m \u001b[0;34m<=\u001b[0m \u001b[0;36m1000\u001b[0m\u001b[0;34m:\u001b[0m\u001b[0;31m#osnovnoy cycle\u001b[0m\u001b[0;34m\u001b[0m\u001b[0;34m\u001b[0m\u001b[0m\n\u001b[0;32m----> 5\u001b[0;31m     \u001b[0msample30i\u001b[0m\u001b[0;34m=\u001b[0m\u001b[0mpareto\u001b[0m\u001b[0;34m.\u001b[0m\u001b[0mrvs\u001b[0m\u001b[0;34m(\u001b[0m\u001b[0mn\u001b[0m\u001b[0;34m)\u001b[0m\u001b[0;34m\u001b[0m\u001b[0;34m\u001b[0m\u001b[0m\n\u001b[0m\u001b[1;32m      6\u001b[0m     \u001b[0mmean30i\u001b[0m\u001b[0;34m=\u001b[0m\u001b[0msum\u001b[0m\u001b[0;34m(\u001b[0m\u001b[0msample30i\u001b[0m\u001b[0;34m)\u001b[0m\u001b[0;34m/\u001b[0m\u001b[0mn\u001b[0m\u001b[0;34m\u001b[0m\u001b[0;34m\u001b[0m\u001b[0m\n\u001b[1;32m      7\u001b[0m     \u001b[0msample30\u001b[0m\u001b[0;34m=\u001b[0m\u001b[0mnp\u001b[0m\u001b[0;34m.\u001b[0m\u001b[0mappend\u001b[0m\u001b[0;34m(\u001b[0m\u001b[0msample30\u001b[0m\u001b[0;34m,\u001b[0m\u001b[0mmean30i\u001b[0m\u001b[0;34m)\u001b[0m\u001b[0;34m\u001b[0m\u001b[0;34m\u001b[0m\u001b[0m\n",
      "\u001b[0;31mNameError\u001b[0m: name 'pareto' is not defined"
     ]
    }
   ],
   "source": [
    "n=30\n",
    "sample30=np.array([])#oboznachaem massiv srednih\n",
    "i=1\n",
    "while i <= 1000:#osnovnoy cycle\n",
    "    sample30i=pareto.rvs(n)\n",
    "    mean30i=sum(sample30i)/n\n",
    "    sample30=np.append(sample30,mean30i)\n",
    "    i+=1\n",
    "#naidem parametri normal distribution for 1000 v.s. pri n=30\n",
    "E=1.5#nashe srednee\n",
    "D=6.75#nashe Pareto\n",
    "D30/n#Dispersiya  dlya vyborochnih srednih\n",
    "sigma30=math.sqrt(D30)\n",
    "norm30=sts.norm(E, sigma30) #opredelyaem raspredelenie\n",
    "pdf30=norm30.pdf(x[:300])\n",
    "#Teper postroim diagrammu i plotnost\n",
    "plt.plot(x[:300], pdf30, label= 'Pareto for n=30')\n",
    "plt.hist(sample30, bins = 200, range=(0,3), density=True)\n",
    "plt.ylabel('samples')\n",
    "plt.xlabel('$x$')\n",
    "plt.legend(loc='upper right')"
   ]
  },
  {
   "cell_type": "markdown",
   "metadata": {},
   "source": [
    "### Ocenim znachenie vyborki dlya n=1000"
   ]
  },
  {
   "cell_type": "code",
   "execution_count": 39,
   "metadata": {},
   "outputs": [
    {
     "data": {
      "text/plain": [
       "<matplotlib.legend.Legend at 0xac7689b0>"
      ]
     },
     "execution_count": 39,
     "metadata": {},
     "output_type": "execute_result"
    },
    {
     "data": {
      "image/png": "[encoded data removed]",
      "text/plain": [
       "<Figure size 432x288 with 1 Axes>"
      ]
     },
     "metadata": {
      "needs_background": "light"
     },
     "output_type": "display_data"
    }
   ],
   "source": [
    "n = 1000\n",
    "y = np.linspace(1,3,1000)\n",
    "sample1000=np.array([]) \n",
    "i=1\n",
    "while i<= 1000:\n",
    "    sample1000i=pareto.rvs(n)\n",
    "    mean1000i=sum(sample1000i)/n\n",
    "    sample1000=np.append(sample1000, mean1000i)\n",
    "    i+=1\n",
    "E=1.5\n",
    "D=6.75\n",
    "D1000=D/n\n",
    "sigma1000=math.sqrt(D1000)\n",
    "norm1000=sts.norm(E, sigma1000)\n",
    "pdf1000=norm1000.pdf(y)\n",
    "plt.plot(y,pdf1000, label='Pareto for n=1000')\n",
    "plt.hist(sample1000, bins=80, range=(1,2), density=True)\n",
    "plt.ylabel('samples')\n",
    "plt.xlabel('$x$')\n",
    "plt.legend(loc='upper right')\n"
   ]
  },
  {
   "cell_type": "markdown",
   "metadata": {},
   "source": [
    "V itoge mi proveli vse neobhodimie procedury, mi smogli zametit, chto s uvelecheniem ob'ema vyborky uluchshaetsya tochnost funktsii. Ososbennostyu  funktsii Pareto yavlyaetstya graniza dopustimih znacheniy. Iz-za etih nedostatkov funktsiya shoditsya lish k znacheniyu 1000. Spasibo."
   ]
  }
 ],
 "metadata": {
  "kernelspec": {
   "display_name": "Python 3",
   "language": "python",
   "name": "python3"
  },
  "language_info": {
   "codemirror_mode": {
    "name": "ipython",
    "version": 3
   },
   "file_extension": ".py",
   "mimetype": "text/x-python",
   "name": "python",
   "nbconvert_exporter": "python",
   "pygments_lexer": "ipython3",
   "version": "3.7.4"
  }
 },
 "nbformat": 4,
 "nbformat_minor": 2
}
